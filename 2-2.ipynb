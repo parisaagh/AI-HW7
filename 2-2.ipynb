{
 "cells": [
  {
   "cell_type": "code",
   "execution_count": null,
   "metadata": {},
   "outputs": [],
   "source": [
    "import tensorflow as tf\n",
    "from tensorflow.keras.models import Sequential\n",
    "from tensorflow.keras.layers import Conv2D, MaxPooling2D, Flatten, Dense\n",
    "from tensorflow.keras.preprocessing.image import ImageDataGenerator\n",
    "import numpy as np\n",
    "import pandas as pd"
   ]
  },
  {
   "cell_type": "code",
   "execution_count": null,
   "metadata": {},
   "outputs": [],
   "source": [
    "# Define paths to the directories\n",
    "train_dir = 'C:\\\\Users\\\\Rajabi\\\\Desktop\\\\NASA\\\\RSSCN7-master\\\\New\\\\train'\n",
    "validation_dir = 'C:\\\\Users\\\\Rajabi\\\\Desktop\\\\NASA\\\\RSSCN7-master\\\\New\\\\validation'\n",
    "test_dir = 'C:\\\\Users\\\\Rajabi\\\\Desktop\\\\NASA\\\\RSSCN7-master\\\\New\\\\test'"
   ]
  },
  {
   "cell_type": "code",
   "execution_count": null,
   "metadata": {},
   "outputs": [],
   "source": [
    "# Define image data generators\n",
    "train_datagen = ImageDataGenerator(rescale=1./255)\n",
    "validation_datagen = ImageDataGenerator(rescale=1./255)\n",
    "test_datagen = ImageDataGenerator(rescale=1./255)"
   ]
  },
  {
   "cell_type": "code",
   "execution_count": null,
   "metadata": {},
   "outputs": [],
   "source": [
    "# Specify the batch size and target image size\n",
    "batch_size = 32\n",
    "target_size = (400, 400)"
   ]
  },
  {
   "cell_type": "code",
   "execution_count": null,
   "metadata": {},
   "outputs": [],
   "source": [
    "# Create generators for training, validation, and test sets\n",
    "train_generator = train_datagen.flow_from_directory(\n",
    "    train_dir,\n",
    "    target_size=target_size,\n",
    "    batch_size=batch_size,\n",
    "    class_mode='categorical')"
   ]
  },
  {
   "cell_type": "code",
   "execution_count": null,
   "metadata": {},
   "outputs": [],
   "source": [
    "validation_generator = validation_datagen.flow_from_directory(\n",
    "    validation_dir,\n",
    "    target_size=target_size,\n",
    "    batch_size=batch_size,\n",
    "    class_mode='categorical')"
   ]
  },
  {
   "cell_type": "code",
   "execution_count": null,
   "metadata": {},
   "outputs": [],
   "source": [
    "test_generator = test_datagen.flow_from_directory(\n",
    "    test_dir,\n",
    "    target_size=target_size,\n",
    "    batch_size=batch_size,\n",
    "    class_mode='categorical')"
   ]
  },
  {
   "cell_type": "code",
   "execution_count": null,
   "metadata": {},
   "outputs": [],
   "source": [
    "# Define hyperparameters to experiment with\n",
    "conv2d_layers = [1, 2]\n",
    "maxpooling2d_layers = [1, 2]\n",
    "dense_layers = [1, 2]\n",
    "neurons_per_layer = [64, 128]\n",
    "batch_sizes = [16, 32]\n",
    "learning_rates = [0.0001, 0.0005]\n",
    "activation_functions = ['relu', 'sigmoid']"
   ]
  },
  {
   "cell_type": "code",
   "execution_count": null,
   "metadata": {},
   "outputs": [],
   "source": [
    "# Perform experiments and store results in a list of dictionaries\n",
    "results = []\n",
    "\n",
    "for conv2d in conv2d_layers:\n",
    "    for maxpooling2d in maxpooling2d_layers:\n",
    "        for dense in dense_layers:\n",
    "            for neurons in neurons_per_layer:\n",
    "                for batch_size in batch_sizes:\n",
    "                    for lr in learning_rates:\n",
    "                        for activation in activation_functions:\n",
    "                            # Create CNN model with current hyperparameters\n",
    "                            model = Sequential()\n",
    "                            model.add(Conv2D(32, (3, 3), activation='relu', input_shape=(400, 400, 3)))\n",
    "                            for _ in range(conv2d - 1):\n",
    "                                model.add(Conv2D(64, (3, 3), activation='relu'))\n",
    "                            model.add(MaxPooling2D((2, 2)))\n",
    "                            for _ in range(maxpooling2d - 1):\n",
    "                                model.add(MaxPooling2D((2, 2)))\n",
    "                            model.add(Flatten())\n",
    "                            for _ in range(dense):\n",
    "                                model.add(Dense(neurons, activation=activation))\n",
    "                            model.add(Dense(7, activation='softmax'))\n",
    "\n",
    "                            model.compile(optimizer=tf.keras.optimizers.Adam(lr=lr),\n",
    "                                          loss='categorical_crossentropy',\n",
    "                                          metrics=['accuracy'])\n",
    "\n",
    "                            # Train the model\n",
    "                            history = model.fit(\n",
    "                                train_generator,\n",
    "                                epochs=20,\n",
    "                                validation_data=validation_generator,\n",
    "                                verbose=0\n",
    "                            )\n",
    "\n",
    "                            # Evaluate the model on test set\n",
    "                            test_loss, test_acc = model.evaluate(test_generator, verbose=0)\n",
    "\n",
    "                            # Store results in a list\n",
    "                            results.append({\n",
    "                                'Conv2D Layers': conv2d,\n",
    "                                'MaxPooling2D Layers': maxpooling2d,\n",
    "                                'Dense Layers': dense,\n",
    "                                'Neurons per Dense Layer': neurons,\n",
    "                                'Batch Size': batch_size,\n",
    "                                'Learning Rate': lr,\n",
    "                                'Activation Function': activation,\n",
    "                                'Test Accuracy': test_acc\n",
    "                            })"
   ]
  }
 ],
 "metadata": {
  "kernelspec": {
   "display_name": "Python 3",
   "language": "python",
   "name": "python3"
  },
  "language_info": {
   "codemirror_mode": {
    "name": "ipython",
    "version": 3
   },
   "file_extension": ".py",
   "mimetype": "text/x-python",
   "name": "python",
   "nbconvert_exporter": "python",
   "pygments_lexer": "ipython3",
   "version": "3.11.4"
  },
  "orig_nbformat": 4
 },
 "nbformat": 4,
 "nbformat_minor": 2
}
